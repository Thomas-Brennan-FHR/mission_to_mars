{
 "cells": [
  {
   "cell_type": "code",
   "execution_count": 57,
   "metadata": {},
   "outputs": [],
   "source": [
    "# Dependencies\n",
    "from bs4 import BeautifulSoup\n",
    "import requests\n",
    "import pymongo\n",
    "import pandas as pd\n",
    "from splinter import Browser"
   ]
  },
  {
   "cell_type": "code",
   "execution_count": 58,
   "metadata": {},
   "outputs": [],
   "source": [
    "# Initialize PyMongo to work with MongoDBs\n",
    "conn = 'mongodb://localhost:27017'\n",
    "client = pymongo.MongoClient(conn)"
   ]
  },
  {
   "cell_type": "code",
   "execution_count": 59,
   "metadata": {},
   "outputs": [],
   "source": [
    "# URL of page to be scraped\n",
    "url = 'https://mars.nasa.gov/news/'"
   ]
  },
  {
   "cell_type": "code",
   "execution_count": 60,
   "metadata": {},
   "outputs": [],
   "source": [
    "response = requests.get(url, allow_redirects=False)\n",
    "soup = BeautifulSoup(response.text, 'html.parser')"
   ]
  },
  {
   "cell_type": "code",
   "execution_count": 61,
   "metadata": {},
   "outputs": [],
   "source": [
    "results = soup.find_all('div', class_=\"slide\")"
   ]
  },
  {
   "cell_type": "code",
   "execution_count": 65,
   "metadata": {},
   "outputs": [
    {
     "data": {
      "text/plain": [
       "[{'Title': 'Opportunity Hunkers Down During Dust Storm',\n",
       "  'Paragraph': \"It's the beginning of the end for the planet-encircling dust storm on Mars. But it could still be weeks, or even months, before skies are clear enough for NASA's Opportunity rover to recharge its batteries and phone home.\"},\n",
       " {'Title': 'NASA Finds Ancient Organic Material, Mysterious Methane on Mars',\n",
       "  'Paragraph': 'NASA’s Curiosity rover has found evidence on Mars with implications for NASA’s search for life.'},\n",
       " {'Title': 'NASA Invests in Visionary Technology ',\n",
       "  'Paragraph': 'NASA is investing in technology concepts, including several from JPL, that may one day be used for future space exploration missions.'},\n",
       " {'Title': 'NASA is Ready to Study the Heart of Mars',\n",
       "  'Paragraph': 'NASA is about to go on a journey to study the center of Mars.'},\n",
       " {'Title': 'NASA Briefing on First Mission to Study Mars Interior',\n",
       "  'Paragraph': 'NASA’s next mission to Mars will be the topic of a media briefing Thursday, March 29, at JPL. The briefing will air live on NASA Television and the agency’s website.'},\n",
       " {'Title': \"New 'AR' Mobile App Features 3-D NASA Spacecraft\",\n",
       "  'Paragraph': \"NASA spacecraft travel to far-off destinations in space, but a new mobile app produced by NASA's Jet Propulsion Laboratory, Pasadena, California, brings spacecraft to users.\"}]"
      ]
     },
     "execution_count": 65,
     "metadata": {},
     "output_type": "execute_result"
    }
   ],
   "source": [
    "news_list=[]\n",
    "\n",
    "for result in results:\n",
    "    news_p = result.find('div', class_=\"rollover_description_inner\").text.strip()\n",
    "    news_title = result.find('img', class_=\"img-lazy\")['alt']    \n",
    "    news_list.append({\"Title\":news_title,\"Paragraph\":news_p})\n",
    "news_list"
   ]
  },
  {
   "cell_type": "code",
   "execution_count": 31,
   "metadata": {},
   "outputs": [
    {
     "name": "stdout",
     "output_type": "stream",
     "text": [
      "https://photojournal.jpl.nasa.gov/jpeg/PIA11591.jpg\n"
     ]
    }
   ],
   "source": [
    "#JPL Mars Space Images - Featured Image\n",
    "executable_path = {'executable_path': 'chromedriver.exe'}\n",
    "browser = Browser('chrome', **executable_path, headless=False)\n",
    "\n",
    "space_image_url='https://www.jpl.nasa.gov/spaceimages/?search=&category=Mars'\n",
    "browser.visit(space_image_url)\n",
    "browser.click_link_by_partial_text('FULL IMAGE')\n",
    "\n",
    "browser.is_element_present_by_text('more info', wait_time=5)\n",
    "browser.click_link_by_partial_text('more info')\n",
    "\n",
    "image_url=browser.find_link_by_partial_text('.jpg')\n",
    "\n",
    "featured_image_url=image_url['href']\n",
    "\n",
    "print(featured_image_url)"
   ]
  },
  {
   "cell_type": "code",
   "execution_count": 11,
   "metadata": {},
   "outputs": [
    {
     "name": "stdout",
     "output_type": "stream",
     "text": [
      "Sol 2220 (2018-11-04), high -10C/14F, low -73C/-99F, pressure at 8.66 hPa, daylight 06:16-18:33\n"
     ]
    }
   ],
   "source": [
    "#Mars Weather\n",
    "\n",
    "weather_url ='https://twitter.com/marswxreport'\n",
    "\n",
    "response = requests.get(weather_url, allow_redirects=False)\n",
    "soup = BeautifulSoup(response.text, 'html.parser')\n",
    "results = soup.find('div', class_='js-tweet-text-container')\n",
    "mars_weather=results.text.strip()\n",
    "\n",
    "print(mars_weather)"
   ]
  },
  {
   "cell_type": "code",
   "execution_count": 21,
   "metadata": {},
   "outputs": [
    {
     "data": {
      "text/plain": [
       "'<table border=\"1\" class=\"dataframe\">\\n  <thead>\\n    <tr style=\"text-align: right;\">\\n      <th></th>\\n      <th>Value</th>\\n    </tr>\\n    <tr>\\n      <th>Fact</th>\\n      <th></th>\\n    </tr>\\n  </thead>\\n  <tbody>\\n    <tr>\\n      <th>Equatorial Diameter:</th>\\n      <td>6,792 km</td>\\n    </tr>\\n    <tr>\\n      <th>Polar Diameter:</th>\\n      <td>6,752 km</td>\\n    </tr>\\n    <tr>\\n      <th>Mass:</th>\\n      <td>6.42 x 10^23 kg (10.7% Earth)</td>\\n    </tr>\\n    <tr>\\n      <th>Moons:</th>\\n      <td>2 (Phobos &amp; Deimos)</td>\\n    </tr>\\n    <tr>\\n      <th>Orbit Distance:</th>\\n      <td>227,943,824 km (1.52 AU)</td>\\n    </tr>\\n    <tr>\\n      <th>Orbit Period:</th>\\n      <td>687 days (1.9 years)</td>\\n    </tr>\\n    <tr>\\n      <th>Surface Temperature:</th>\\n      <td>-153 to 20 °C</td>\\n    </tr>\\n    <tr>\\n      <th>First Record:</th>\\n      <td>2nd millennium BC</td>\\n    </tr>\\n    <tr>\\n      <th>Recorded By:</th>\\n      <td>Egyptian astronomers</td>\\n    </tr>\\n  </tbody>\\n</table>'"
      ]
     },
     "execution_count": 21,
     "metadata": {},
     "output_type": "execute_result"
    }
   ],
   "source": [
    "# Mars Facts\n",
    "\n",
    "facts ='https://space-facts.com/mars/'\n",
    "\n",
    "tables = pd.read_html(facts)\n",
    "df=tables[0]\n",
    "df.columns = ['Fact', 'Value']\n",
    "df.set_index('Fact', inplace=True)\n",
    "\n",
    "html_table = df.to_html()\n",
    "html_table.replace('\\n', '')\n",
    "html_table"
   ]
  },
  {
   "cell_type": "code",
   "execution_count": 56,
   "metadata": {},
   "outputs": [
    {
     "name": "stdout",
     "output_type": "stream",
     "text": [
      "[{'title': 'Cerberus Hemisphere Enhanced', 'img_url': 'http://astropedia.astrogeology.usgs.gov/download/Mars/Viking/cerberus_enhanced.tif/full.jpg'}, {'title': 'Schiaparelli Hemisphere Enhanced', 'img_url': 'http://astropedia.astrogeology.usgs.gov/download/Mars/Viking/schiaparelli_enhanced.tif/full.jpg'}, {'title': 'Syrtis Major Hemisphere Enhanced', 'img_url': 'http://astropedia.astrogeology.usgs.gov/download/Mars/Viking/syrtis_major_enhanced.tif/full.jpg'}, {'title': 'Valles Marineris Hemisphere Enhanced', 'img_url': 'http://astropedia.astrogeology.usgs.gov/download/Mars/Viking/valles_marineris_enhanced.tif/full.jpg'}]\n"
     ]
    }
   ],
   "source": [
    "# Mars Hemispheres\n",
    "Hemispheres_url=\"https://astrogeology.usgs.gov/search/results?q=hemisphere+enhanced&k1=target&v1=Mars\"\n",
    "\n",
    "response = requests.get(Hemispheres_url)\n",
    "soup = BeautifulSoup(response.text, 'html.parser')\n",
    "\n",
    "links = soup.find_all('a', class_=\"itemLink product-item\")\n",
    "\n",
    "url_list=[]\n",
    "\n",
    "for x in links:\n",
    "    url_list.append(f\"https://astrogeology.usgs.gov{x['href']}\")\n",
    "\n",
    "hemisphere_image_urls =[]    \n",
    "    \n",
    "for url in url_list:\n",
    "    response = requests.get(url)\n",
    "    soup = BeautifulSoup(response.text, 'html.parser')\n",
    "    \n",
    "    title = soup.find('h2')\n",
    "    links = soup.find('a',text=\"Sample\")\n",
    "    \n",
    "    image_urls ={\"title\": title.text, \"img_url\": links['href']}\n",
    "    hemisphere_image_urls.append(image_urls)\n",
    "    \n",
    "print(hemisphere_image_urls)"
   ]
  },
  {
   "cell_type": "code",
   "execution_count": null,
   "metadata": {},
   "outputs": [],
   "source": []
  }
 ],
 "metadata": {
  "kernelspec": {
   "display_name": "Python [default]",
   "language": "python",
   "name": "python3"
  },
  "language_info": {
   "codemirror_mode": {
    "name": "ipython",
    "version": 3
   },
   "file_extension": ".py",
   "mimetype": "text/x-python",
   "name": "python",
   "nbconvert_exporter": "python",
   "pygments_lexer": "ipython3",
   "version": "3.6.5"
  }
 },
 "nbformat": 4,
 "nbformat_minor": 2
}
